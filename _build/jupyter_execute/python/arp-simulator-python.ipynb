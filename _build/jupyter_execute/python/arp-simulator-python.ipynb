{
 "cells": [
  {
   "cell_type": "markdown",
   "metadata": {},
   "source": [
    "# **Build an ARP Simulator with Python**\n",
    "\n",
    "Address Resolution Protocol (ARP) is a vital component of local network communication. It helps devices find the hardware (MAC) address of a device based on its IP address. In this blog post, we'll dive into an ARP simulator project that provides a client-server model to simulate ARP processes. This tool is an excellent resource for learning about ARP and network programming.\n",
    "\n",
    "You can view the GitHub repository for this project here:\n",
    "\n",
    "![Readme Card](https://github-readme-stats.vercel.app/api/pin/?username=breezy-codes&repo=ARP-Simulator&show_owner=true&)"
   ]
  },
  {
   "cell_type": "markdown",
   "metadata": {},
   "source": [
    "## **ARP Server Implementation in Python**\n",
    "\n",
    "This Python script demonstrates a simple ARP (Address Resolution Protocol) server that listens for incoming connections and responds to ARP requests. The server maintains a predefined dictionary of IP addresses and their corresponding MAC addresses. When a client sends an IP address to the server, it looks up the IP in the dictionary and returns the associated MAC address. If the IP address is not found in the dictionary, it responds with \"Not Found\".\n",
    "\n",
    "```{admonition} Key Components:\n",
    ":class: tip\n",
    "- **Network Dictionary:** A dictionary named `NETWORK` is defined at the beginning of the script. This dictionary contains IP addresses as keys and their corresponding MAC addresses as values.\n",
    "- **Server Setup:** The server is configured to listen on `127.0.0.1` (localhost) and port `65432`. It uses the socket library to create a TCP socket and bind it to the specified IP address and port.\n",
    "- **Listening for Connections:** The server starts listening for incoming connections. When a connection is established, it accepts the connection and enters a loop to continuously receive and respond to ARP requests from the client.\n",
    "- **Handling ARP Requests:** When the server receives an IP address from the client, it checks the `NETWORK` dictionary for the corresponding MAC address. If found, it sends the MAC address back to the client. If not, it responds with `\"Not Found\"`.\n",
    "- **Continuous Operation:** The server runs indefinitely, waiting for incoming connections and responding to ARP requests.\n",
    "```"
   ]
  },
  {
   "cell_type": "code",
   "execution_count": null,
   "metadata": {},
   "outputs": [],
   "source": [
    "import socket\n",
    "\n",
    "# Network dictionary\n",
    "NETWORK = {\n",
    "    '192.168.1.1': '00:0A:95:9D:68:16',\n",
    "    '192.168.1.2': '00:0A:95:9D:68:17',\n",
    "    '192.168.1.3': '00:0A:95:9D:68:18',\n",
    "    '192.168.1.4': '00:0A:95:9D:68:19',\n",
    "    '192.168.1.5': '00:0A:95:9D:68:1A',\n",
    "    '192.168.1.6': '00:0A:95:9D:68:1B',\n",
    "    '192.168.1.7': '00:0A:95:9D:68:1C',\n",
    "    '192.168.1.8': '00:0A:95:9D:68:1D',\n",
    "    '192.168.1.9': '00:0A:95:9D:68:1E',\n",
    "    '192.168.1.10': '00:0A:95:9D:68:1F',\n",
    "}\n",
    "\n",
    "SERVER_IP = '127.0.0.1'\n",
    "SERVER_PORT = 65432\n",
    "\n",
    "with socket.socket(socket.AF_INET, socket.SOCK_STREAM) as s:\n",
    "    s.bind((SERVER_IP, SERVER_PORT))\n",
    "    s.listen()\n",
    "    print(\"ARP server is listening...\")\n",
    "\n",
    "    # Keep the server running\n",
    "    while True:\n",
    "        conn, addr = s.accept()\n",
    "        with conn:\n",
    "            print('Connected by', addr)\n",
    "            while True:\n",
    "                ip = conn.recv(1024).decode('utf-8')\n",
    "                if not ip: break\n",
    "                mac = NETWORK.get(ip, None)\n",
    "                response = mac if mac else 'Not Found'\n",
    "                print(f\"Received ARP request for IP: {ip}. Responded with: {response}\")\n",
    "                conn.sendall(response.encode('utf-8'))"
   ]
  },
  {
   "cell_type": "markdown",
   "metadata": {},
   "source": [
    "## **ARP Client Implementation in Python**\n",
    "\n",
    "This Python script demonstrates a simple ARP (Address Resolution Protocol) client that interacts with the previously implemented ARP server. The client sends an IP address to the server, requests the corresponding MAC address, and updates its local ARP table based on the server's response.\n",
    "\n",
    "```{admonition} Key Components:\n",
    ":class: tip\n",
    "- **Server Configuration:** The client is configured to connect to the ARP server running on `127.0.0.1` (localhost) and port `65432`.\n",
    "-  **ARP Table Initialization:** The client maintains a local ARP table, which is initially empty. This table stores IP addresses as keys and their corresponding MAC addresses as values.\n",
    "-  **User Input:** The client prompts the user to enter an IP address for which the MAC address is required.\n",
    "-  **Communication with ARP Server:** The client creates a TCP socket connection to the server, sends the IP address, and waits for the server’s response. The server responds with the corresponding MAC address or `\"Not Found\"` if the IP address is not in its dictionary.\n",
    "-  **Updating ARP Table:** Upon receiving the MAC address from the server, the client updates its local ARP table. If the MAC address is not found, it informs the user accordingly.\n",
    "-  **Continuous Operation:** The client continuously prompts the user for IP addresses and updates the ARP table based on server responses.\n",
    "```"
   ]
  },
  {
   "cell_type": "code",
   "execution_count": null,
   "metadata": {},
   "outputs": [],
   "source": [
    "import socket\n",
    "\n",
    "SERVER_IP = '127.0.0.1'\n",
    "SERVER_PORT = 65432\n",
    "ARP_TABLE = {}\n",
    "\n",
    "print(\"Initial ARP Table:\", ARP_TABLE)\n",
    "\n",
    "while True:\n",
    "    ip = input(\"Enter IP to ARP for: \")\n",
    "\n",
    "    with socket.socket(socket.AF_INET, socket.SOCK_STREAM) as s:\n",
    "        s.connect((SERVER_IP, SERVER_PORT))\n",
    "        s.sendall(ip.encode('utf-8'))\n",
    "        mac = s.recv(1024).decode('utf-8')\n",
    "        mac = None if mac == 'Not Found' else mac\n",
    "\n",
    "    if mac:\n",
    "        ARP_TABLE[ip] = mac\n",
    "        print(f\"Received ARP reply: {ip} is at {mac}\")\n",
    "    else:\n",
    "        print(f\"No ARP Reply for {ip}\")\n",
    "    print(\"Current ARP Table:\", ARP_TABLE)"
   ]
  },
  {
   "cell_type": "markdown",
   "metadata": {},
   "source": [
    "## How to run the code\n",
    "\n",
    "In order to run this code, you need to open both files up in pycharm or vscodes and run the server first and then the client. The server will be running in the background and the client will be sending requests to the server. Then you will interact within the client side to get the MAC address of the IP address you provide."
   ]
  },
  {
   "cell_type": "markdown",
   "metadata": {},
   "source": [
    "### How the output will look:\n",
    "\n",
    "Here is a sample of the output from running the code, as you can see the table is updated each time you provide an IP address and the MAC address is found. Or if the IP address isn't found, it repsonds with `not found` and the table remains the same."
   ]
  },
  {
   "cell_type": "markdown",
   "metadata": {},
   "source": [
    "```{admonition} Client Output\n",
    ":class: tip\n",
    "```bash\n",
    "Initial ARP Table: {}\n",
    "Enter IP to ARP for: 192.168.1.1\n",
    "Received ARP reply: 192.168.1.1 is at 00:0A:95:9D:68:16\n",
    "Current ARP Table: {'192.168.1.1': '00:0A:95:9D:68:16'}\n",
    "Enter IP to ARP for: 192.168.1.2\n",
    "Received ARP reply: 192.168.1.2 is at 00:0A:95:9D:68:17\n",
    "Current ARP Table: {'192.168.1.1': '00:0A:95:9D:68:16', '192.168.1.2': '00:0A:95:9D:68:17'}\n",
    "Enter IP to ARP for: 192.168.0.0\n",
    "No ARP Reply for 192.168.0.0\n",
    "Current ARP Table: {'192.168.1.1': '00:0A:95:9D:68:16', '192.168.1.2': '00:0A:95:9D:68:17'}\n",
    "Enter IP to ARP for: 192.168.1.6\n",
    "Received ARP reply: 192.168.1.6 is at 00:0A:95:9D:68:1B\n",
    "Current ARP Table: {'192.168.1.1': '00:0A:95:9D:68:16', '192.168.1.2': '00:0A:95:9D:68:17', '192.168.1.6': '00:0A:95:9D:68:1B'}\n",
    "Enter IP to ARP for: 192.168.1.5\n",
    "Received ARP reply: 192.168.1.5 is at 00:0A:95:9D:68:1A\n",
    "Current ARP Table: {'192.168.1.1': '00:0A:95:9D:68:16', '192.168.1.2': '00:0A:95:9D:68:17', '192.168.1.6': '00:0A:95:9D:68:1B', '192.168.1.5': '00:0A:95:9D:68:1A'}\n",
    "```"
   ]
  },
  {
   "cell_type": "markdown",
   "metadata": {},
   "source": [
    "## Watch my tutorial on the process on YouTube\n",
    "\n",
    "<div style=\"text-align: center;\">  \n",
    "  <div style=\"position: relative; height: 315px; width: 560px; margin: 0 auto;\">  \n",
    "    <iframe src=\"https://www.youtube.com/embed/A230IEK4OWA?si=wAIk3sj3YxjQ8aZS\" style=\"position: absolute; top: 0; left: 0; width: 100%; height: 100%;\" frameborder=\"0\" allow=\"accelerometer; autoplay; encrypted-media; gyroscope; picture-in-picture\" allowfullscreen></iframe>  \n",
    "  </div>  \n",
    "</div>"
   ]
  }
 ],
 "metadata": {
  "language_info": {
   "name": "python"
  }
 },
 "nbformat": 4,
 "nbformat_minor": 2
}