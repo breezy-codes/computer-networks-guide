{
 "cells": [
  {
   "cell_type": "markdown",
   "metadata": {},
   "source": [
    "# **Building a Simple Server-Client Database**\n",
    "\n",
    "This Python script demonstrates a simple server-client model for querying an animal database. The server stores a list of animals along with their names and ages, and the client can request the names of animals from the server. The communication between the server and client is done using UDP sockets.\n",
    "\n",
    "You can view the code for this here:\n",
    "\n",
    "![Readme Card](https://github-readme-stats.vercel.app/api/pin/?username=breezy-codes&repo=Server-Client-Program&show_owner=true&)"
   ]
  },
  {
   "cell_type": "markdown",
   "metadata": {},
   "source": [
    "## **Server-Side Implementation**\n",
    "\n",
    "The server maintains a dictionary of animals, where each key is an animal type and the value is a tuple containing names and ages of the animals. The server listens for incoming requests and responds with the requested animal data.\n",
    "\n",
    "```{admonition} Key Components:\n",
    ":class: tip\n",
    "- **Animal Dictionary:** A dictionary named our_animals stores the data of various animals.\n",
    "- **Server Configuration:** The server is configured to run on 127.0.0.1 (localhost) and port 53.\n",
    "- **Socket Setup:** A UDP socket is created and bound to the specified IP address and port.\n",
    "- **Request Handling:** The server continuously listens for incoming requests. When a request is received, it looks up the requested animal in the dictionary and sends the corresponding data back to the client. If the animal is not found, it sends a \"not found\" message.\n",
    "```"
   ]
  },
  {
   "cell_type": "code",
   "execution_count": null,
   "metadata": {},
   "outputs": [],
   "source": [
    "import socket\n",
    "\n",
    "# Animal Dictionary\n",
    "our_animals = {\n",
    "    \"lion\": (\"Bruce, 25yrs old\", \"Tony, 10yrs old\", \"Michael, 12 yrs old\"),\n",
    "    \"elephant\": (\"Ellie 108yrs old\", \"Ella, 30yrs old\", \"Dumbo 68yrs old\"),\n",
    "    \"giraffe\": (\"Gerry, 7yrs old\", \"Grace, 9yrs old\", \"Geoffrey, 14yrs old\"),\n",
    "    \"zebra\": (\"Stripey, 5yrs old\", \"Loki, 8yrs old\", \"Stella, 6yrs old\"),\n",
    "    \"monkey\": (\"Squiggles, 3yrs old\", \"Winston, 5yrs old\", \"Jiggles, 4yrs old\"),\n",
    "    \"emu\": (\"Karen, 15yrs old\", \"Judy, 12yrs old\", \"Ken, 18yrs old\"),\n",
    "    \"kangaroo\": (\"Kenny, 6yrs old\", \"Kylie, 4yrs old\", \"Kevin, 8yrs old\"),\n",
    "    \"penguin\": (\"Penny, 2yrs old\", \"Pablo, 3yrs old\", \"Pippin, 1yr old\"),\n",
    "    \"tiger\": (\"Tanya, 9yrs old\", \"Tyler, 6yrs old\", \"Tara, 7yrs old\")\n",
    "}\n",
    "\n",
    "\n",
    "# Server IP and Port Number\n",
    "server_ip = \"127.0.0.1\"\n",
    "server_port = 53\n",
    "\n",
    "# Socket set up for communications\n",
    "server_socket = socket.socket(socket.AF_INET, socket.SOCK_DGRAM)\n",
    "server_socket.bind((server_ip, server_port))\n",
    "\n",
    "# Server running message\n",
    "print(\"Our animal database is running...\")\n",
    "\n",
    "while True:\n",
    "    data, client_address = server_socket.recvfrom(1024)\n",
    "    animal = data.decode().strip().lower()\n",
    "\n",
    "    # If loop for communicating animals to server\n",
    "    if animal in our_animals:\n",
    "        response = \" , \".join(our_animals[animal])\n",
    "        print(\"Client sent request for:\", animal)\n",
    "        print(\"Server sent animal names:\", response)\n",
    "        server_socket.sendto(response.encode(), client_address)\n",
    "    else:\n",
    "        server_socket.sendto(\"Animal not found in our database\".encode(),client_address)"
   ]
  },
  {
   "cell_type": "markdown",
   "metadata": {},
   "source": [
    "## **Client-Side Implementation**\n",
    "\n",
    "The client allows the user to input an animal type and sends this request to the server. The client then receives and displays the server's response. The user can continue to make requests until they choose to exit.\n",
    "\n",
    "```{admonition} Key Components:\n",
    ":class: tip\n",
    "- **Server Configuration:** The client is configured to connect to the server running on `127.0.0.1` (localhost) and port `53`.\n",
    "- **Socket Setup:** A UDP socket is created for communication with the server.\n",
    "- **User Interaction:** The client prompts the user to enter an animal type, sends the request to the server, and displays the received response. The user can continue querying the server until they choose to exit.\n",
    "```"
   ]
  },
  {
   "cell_type": "code",
   "execution_count": null,
   "metadata": {},
   "outputs": [],
   "source": [
    "import socket\n",
    "\n",
    "# Server IP and Port Number\n",
    "server_ip = \"127.0.0.1\"\n",
    "server_port = 53\n",
    "\n",
    "# Socket set up for communications\n",
    "client_socket = socket.socket(socket.AF_INET, socket.SOCK_DGRAM)\n",
    "\n",
    "while True:\n",
    "    animal = input(\"Enter an animal to find their names:\")\n",
    "    client_socket.sendto(animal.encode(), (server_ip, server_port))\n",
    "\n",
    "    response, _ = client_socket.recvfrom(1024)\n",
    "    print(\"The names for those animals in our database are:\", response.decode())\n",
    "\n",
    "    choice = input(\"Do you want to continue? (y/n\")\n",
    "    if choice.lower() != \"y\":\n",
    "        break\n",
    "\n",
    "client_socket.close()"
   ]
  },
  {
   "cell_type": "markdown",
   "metadata": {},
   "source": [
    "## How to run the code\n",
    "\n",
    "In order to run this code, you need to open both files up in pycharm or vscodes and run the server first and then the client. The server will be running in the background and the client will be sending requests to the server. Then you will interact with the client side where you will enter an animal type, and if the animal type is in the server's database, it will return the name and age of the animal. If the animal type is not in the database, it will return \"Animal not found\"."
   ]
  },
  {
   "cell_type": "markdown",
   "metadata": {},
   "source": [
    "### How the output will look:\n",
    "\n",
    "Here is a sample of the output from running the code, as you can see the table is updated each time you provide an IP address and the MAC address is found. Or if the IP address isn't found, it repsonds with `not found` and the table remains the same."
   ]
  },
  {
   "cell_type": "markdown",
   "metadata": {},
   "source": [
    "```{admonition} Client Output\n",
    ":class: tip\n",
    "```bash\n",
    "Enter an animal to find their names:lion\n",
    "The names for those animals in our database are: Bruce, 25yrs old , Tony, 10yrs old , Michael, 12 yrs old\n",
    "Do you want to continue? (y/ny\n",
    "Enter an animal to find their names:elephant\n",
    "The names for those animals in our database are: Ellie 108yrs old , Ella, 30yrs old , Dumbo 68yrs old\n",
    "Do you want to continue? (y/ny\n",
    "Enter an animal to find their names:tigger\n",
    "The names for those animals in our database are: Animal not found in our database\n",
    "Do you want to continue? (y/ny\n",
    "Enter an animal to find their names:tiger\n",
    "The names for those animals in our database are: Tanya, 9yrs old , Tyler, 6yrs old , Tara, 7yrs old\n",
    "Do you want to continue? (y/nn\n",
    "\n",
    "Process finished with exit code 0\n",
    "```\n",
    "```"
   ]
  },
  {
   "cell_type": "markdown",
   "metadata": {},
   "source": [
    "## Watch my tutorial on the process on YouTube\n",
    "\n",
    "<div style=\"text-align: center;\">  \n",
    "  <div style=\"position: relative; height: 315px; width: 560px; margin: 0 auto;\">  \n",
    "    <iframe src=\"https://www.youtube.com/embed/S4oAhXF7hcM?si=9QtJxVhkxyW5XRUe\" style=\"position: absolute; top: 0; left: 0; width: 100%; height: 100%;\" frameborder=\"0\" allow=\"accelerometer; autoplay; encrypted-media; gyroscope; picture-in-picture\" allowfullscreen></iframe>  \n",
    "  </div>  \n",
    "</div>"
   ]
  }
 ],
 "metadata": {
  "language_info": {
   "name": "python"
  }
 },
 "nbformat": 4,
 "nbformat_minor": 2
}
